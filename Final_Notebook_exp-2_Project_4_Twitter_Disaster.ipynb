{
  "nbformat": 4,
  "nbformat_minor": 0,
  "metadata": {
    "accelerator": "GPU",
    "colab": {
      "name": "Final_Notebook 2 Project 4 Twitter Disaster.ipynb",
      "provenance": [],
      "collapsed_sections": []
    },
    "kernelspec": {
      "display_name": "Python 3",
      "name": "python3"
    },
    "language_info": {
      "name": "python"
    }
  },
  "cells": [
    {
      "cell_type": "code",
      "metadata": {
        "id": "juUPr1QjL_Lm",
        "colab": {
          "base_uri": "https://localhost:8080/"
        },
        "outputId": "8abb0aa8-ae4f-47f9-82fb-3a39a728e094"
      },
      "source": [
        "# connect Google drive\n",
        "from google.colab import drive\n",
        "drive.mount('/content/drive')"
      ],
      "execution_count": 1,
      "outputs": [
        {
          "output_type": "stream",
          "name": "stdout",
          "text": [
            "Drive already mounted at /content/drive; to attempt to forcibly remount, call drive.mount(\"/content/drive\", force_remount=True).\n"
          ]
        }
      ]
    },
    {
      "cell_type": "code",
      "metadata": {
        "id": "bHQy0qgO50z9",
        "colab": {
          "base_uri": "https://localhost:8080/"
        },
        "outputId": "a66c4201-e092-41f6-a13c-2e336846481b"
      },
      "source": [
        "# check Nvidia GPU model\n",
        "!nvidia-smi"
      ],
      "execution_count": 2,
      "outputs": [
        {
          "output_type": "stream",
          "name": "stdout",
          "text": [
            "Mon Nov 22 14:32:45 2021       \n",
            "+-----------------------------------------------------------------------------+\n",
            "| NVIDIA-SMI 495.44       Driver Version: 460.32.03    CUDA Version: 11.2     |\n",
            "|-------------------------------+----------------------+----------------------+\n",
            "| GPU  Name        Persistence-M| Bus-Id        Disp.A | Volatile Uncorr. ECC |\n",
            "| Fan  Temp  Perf  Pwr:Usage/Cap|         Memory-Usage | GPU-Util  Compute M. |\n",
            "|                               |                      |               MIG M. |\n",
            "|===============================+======================+======================|\n",
            "|   0  Tesla P100-PCIE...  Off  | 00000000:00:04.0 Off |                    0 |\n",
            "| N/A   42C    P0    27W / 250W |      0MiB / 16280MiB |      0%      Default |\n",
            "|                               |                      |                  N/A |\n",
            "+-------------------------------+----------------------+----------------------+\n",
            "                                                                               \n",
            "+-----------------------------------------------------------------------------+\n",
            "| Processes:                                                                  |\n",
            "|  GPU   GI   CI        PID   Type   Process name                  GPU Memory |\n",
            "|        ID   ID                                                   Usage      |\n",
            "|=============================================================================|\n",
            "|  No running processes found                                                 |\n",
            "+-----------------------------------------------------------------------------+\n"
          ]
        }
      ]
    },
    {
      "cell_type": "code",
      "metadata": {
        "id": "Yt2gDkhjc0U3",
        "colab": {
          "base_uri": "https://localhost:8080/"
        },
        "outputId": "adc88afa-7e04-4d8e-c324-1be97e2d71f8"
      },
      "source": [
        "# install dependencies\n",
        "!pip install --upgrade transformers\n",
        "!pip install anyascii\n",
        "!pip install contractions"
      ],
      "execution_count": 3,
      "outputs": [
        {
          "output_type": "stream",
          "name": "stdout",
          "text": [
            "Requirement already satisfied: transformers in /usr/local/lib/python3.7/dist-packages (4.12.5)\n",
            "Requirement already satisfied: huggingface-hub<1.0,>=0.1.0 in /usr/local/lib/python3.7/dist-packages (from transformers) (0.1.2)\n",
            "Requirement already satisfied: pyyaml>=5.1 in /usr/local/lib/python3.7/dist-packages (from transformers) (6.0)\n",
            "Requirement already satisfied: filelock in /usr/local/lib/python3.7/dist-packages (from transformers) (3.4.0)\n",
            "Requirement already satisfied: tqdm>=4.27 in /usr/local/lib/python3.7/dist-packages (from transformers) (4.62.3)\n",
            "Requirement already satisfied: sacremoses in /usr/local/lib/python3.7/dist-packages (from transformers) (0.0.46)\n",
            "Requirement already satisfied: tokenizers<0.11,>=0.10.1 in /usr/local/lib/python3.7/dist-packages (from transformers) (0.10.3)\n",
            "Requirement already satisfied: numpy>=1.17 in /usr/local/lib/python3.7/dist-packages (from transformers) (1.19.5)\n",
            "Requirement already satisfied: regex!=2019.12.17 in /usr/local/lib/python3.7/dist-packages (from transformers) (2019.12.20)\n",
            "Requirement already satisfied: requests in /usr/local/lib/python3.7/dist-packages (from transformers) (2.23.0)\n",
            "Requirement already satisfied: packaging>=20.0 in /usr/local/lib/python3.7/dist-packages (from transformers) (21.3)\n",
            "Requirement already satisfied: importlib-metadata in /usr/local/lib/python3.7/dist-packages (from transformers) (4.8.2)\n",
            "Requirement already satisfied: typing-extensions>=3.7.4.3 in /usr/local/lib/python3.7/dist-packages (from huggingface-hub<1.0,>=0.1.0->transformers) (3.10.0.2)\n",
            "Requirement already satisfied: pyparsing!=3.0.5,>=2.0.2 in /usr/local/lib/python3.7/dist-packages (from packaging>=20.0->transformers) (3.0.6)\n",
            "Requirement already satisfied: zipp>=0.5 in /usr/local/lib/python3.7/dist-packages (from importlib-metadata->transformers) (3.6.0)\n",
            "Requirement already satisfied: idna<3,>=2.5 in /usr/local/lib/python3.7/dist-packages (from requests->transformers) (2.10)\n",
            "Requirement already satisfied: chardet<4,>=3.0.2 in /usr/local/lib/python3.7/dist-packages (from requests->transformers) (3.0.4)\n",
            "Requirement already satisfied: urllib3!=1.25.0,!=1.25.1,<1.26,>=1.21.1 in /usr/local/lib/python3.7/dist-packages (from requests->transformers) (1.24.3)\n",
            "Requirement already satisfied: certifi>=2017.4.17 in /usr/local/lib/python3.7/dist-packages (from requests->transformers) (2021.10.8)\n",
            "Requirement already satisfied: joblib in /usr/local/lib/python3.7/dist-packages (from sacremoses->transformers) (1.1.0)\n",
            "Requirement already satisfied: six in /usr/local/lib/python3.7/dist-packages (from sacremoses->transformers) (1.15.0)\n",
            "Requirement already satisfied: click in /usr/local/lib/python3.7/dist-packages (from sacremoses->transformers) (7.1.2)\n",
            "Requirement already satisfied: anyascii in /usr/local/lib/python3.7/dist-packages (0.3.0)\n",
            "Requirement already satisfied: contractions in /usr/local/lib/python3.7/dist-packages (0.0.58)\n",
            "Requirement already satisfied: textsearch>=0.0.21 in /usr/local/lib/python3.7/dist-packages (from contractions) (0.0.21)\n",
            "Requirement already satisfied: pyahocorasick in /usr/local/lib/python3.7/dist-packages (from textsearch>=0.0.21->contractions) (1.4.2)\n",
            "Requirement already satisfied: anyascii in /usr/local/lib/python3.7/dist-packages (from textsearch>=0.0.21->contractions) (0.3.0)\n"
          ]
        }
      ]
    },
    {
      "cell_type": "code",
      "metadata": {
        "id": "LtWn_Vz8csX3"
      },
      "source": [
        "# import all required modules\n",
        "import pandas as pd\n",
        "import re\n",
        "import seaborn as sns\n",
        "import string\n",
        "from transformers import BertTokenizer, TFBertModel, TFBertForSequenceClassification\n",
        "import numpy as np\n",
        "from sklearn import model_selection\n",
        "from keras import layers\n",
        "import tensorflow as tf\n",
        "from tensorflow import keras\n",
        "from keras.utils.vis_utils import plot_model\n",
        "import os\n",
        "import tensorflow as tf\n",
        "import math\n",
        "from mlxtend.plotting import plot_learning_curves\n",
        "import matplotlib.pyplot as plt\n",
        "import numpy as np\n",
        "import pandas as pd\n",
        "import matplotlib.pyplot as plt\n",
        "\n",
        "from anyascii import anyascii\n",
        "from contractions import fix\n",
        "\n",
        "import re\n",
        "import nltk\n",
        "from nltk.tokenize import TweetTokenizer, word_tokenize\n",
        "\n",
        "from sklearn.model_selection import train_test_split\n",
        "from sklearn.metrics import f1_score, confusion_matrix\n",
        "\n",
        "\n",
        "os.environ['TF_CPP_MIN_LOG_LEVEL'] = '2'"
      ],
      "execution_count": 4,
      "outputs": []
    },
    {
      "cell_type": "code",
      "metadata": {
        "id": "beVOFXGxMeyH",
        "colab": {
          "base_uri": "https://localhost:8080/",
          "height": 204
        },
        "outputId": "877510cd-f434-452f-d47c-db6af05f984e"
      },
      "source": [
        "# define file path from Google Drive\n",
        "path = 'drive/My Drive/twitter.csv'\n",
        "df = pd.read_csv(path)\n",
        "df.head()  # check first 5 rows\n"
      ],
      "execution_count": 5,
      "outputs": [
        {
          "output_type": "execute_result",
          "data": {
            "text/html": [
              "<div>\n",
              "<style scoped>\n",
              "    .dataframe tbody tr th:only-of-type {\n",
              "        vertical-align: middle;\n",
              "    }\n",
              "\n",
              "    .dataframe tbody tr th {\n",
              "        vertical-align: top;\n",
              "    }\n",
              "\n",
              "    .dataframe thead th {\n",
              "        text-align: right;\n",
              "    }\n",
              "</style>\n",
              "<table border=\"1\" class=\"dataframe\">\n",
              "  <thead>\n",
              "    <tr style=\"text-align: right;\">\n",
              "      <th></th>\n",
              "      <th>id</th>\n",
              "      <th>keyword</th>\n",
              "      <th>location</th>\n",
              "      <th>text</th>\n",
              "      <th>target</th>\n",
              "    </tr>\n",
              "  </thead>\n",
              "  <tbody>\n",
              "    <tr>\n",
              "      <th>0</th>\n",
              "      <td>0</td>\n",
              "      <td>NaN</td>\n",
              "      <td>NaN</td>\n",
              "      <td>Just happened a terrible car crash</td>\n",
              "      <td>NaN</td>\n",
              "    </tr>\n",
              "    <tr>\n",
              "      <th>1</th>\n",
              "      <td>1</td>\n",
              "      <td>NaN</td>\n",
              "      <td>NaN</td>\n",
              "      <td>Our Deeds are the Reason of this #earthquake M...</td>\n",
              "      <td>1.0</td>\n",
              "    </tr>\n",
              "    <tr>\n",
              "      <th>2</th>\n",
              "      <td>2</td>\n",
              "      <td>NaN</td>\n",
              "      <td>NaN</td>\n",
              "      <td>Heard about #earthquake is different cities, s...</td>\n",
              "      <td>NaN</td>\n",
              "    </tr>\n",
              "    <tr>\n",
              "      <th>3</th>\n",
              "      <td>3</td>\n",
              "      <td>NaN</td>\n",
              "      <td>NaN</td>\n",
              "      <td>there is a forest fire at spot pond, geese are...</td>\n",
              "      <td>NaN</td>\n",
              "    </tr>\n",
              "    <tr>\n",
              "      <th>4</th>\n",
              "      <td>4</td>\n",
              "      <td>NaN</td>\n",
              "      <td>NaN</td>\n",
              "      <td>Forest fire near La Ronge Sask. Canada</td>\n",
              "      <td>1.0</td>\n",
              "    </tr>\n",
              "  </tbody>\n",
              "</table>\n",
              "</div>"
            ],
            "text/plain": [
              "   id keyword  ...                                               text target\n",
              "0   0     NaN  ...                 Just happened a terrible car crash    NaN\n",
              "1   1     NaN  ...  Our Deeds are the Reason of this #earthquake M...    1.0\n",
              "2   2     NaN  ...  Heard about #earthquake is different cities, s...    NaN\n",
              "3   3     NaN  ...  there is a forest fire at spot pond, geese are...    NaN\n",
              "4   4     NaN  ...             Forest fire near La Ronge Sask. Canada    1.0\n",
              "\n",
              "[5 rows x 5 columns]"
            ]
          },
          "metadata": {},
          "execution_count": 5
        }
      ]
    },
    {
      "cell_type": "markdown",
      "metadata": {
        "id": "j8b8OzeBzJfN"
      },
      "source": [
        "# Set which bert model to be used along with Tokenizer"
      ]
    },
    {
      "cell_type": "code",
      "metadata": {
        "id": "dtYE6XqCMq8_",
        "colab": {
          "base_uri": "https://localhost:8080/"
        },
        "outputId": "aff4c5db-0e2e-4810-d96b-205d466dc0b3"
      },
      "source": [
        "bert_model = \"bert-large-uncased\"  # the Bert pre-trained model to use (base or large)\n",
        "\n",
        "tokenizer = BertTokenizer.from_pretrained(bert_model, num_labels=2)  # define the Tokenizer to be used\n",
        "\n",
        "bert = TFBertModel.from_pretrained(bert_model, num_labels=2)  # The bert model to be used"
      ],
      "execution_count": 6,
      "outputs": [
        {
          "output_type": "stream",
          "name": "stderr",
          "text": [
            "Some layers from the model checkpoint at bert-large-uncased were not used when initializing TFBertModel: ['mlm___cls', 'nsp___cls']\n",
            "- This IS expected if you are initializing TFBertModel from the checkpoint of a model trained on another task or with another architecture (e.g. initializing a BertForSequenceClassification model from a BertForPreTraining model).\n",
            "- This IS NOT expected if you are initializing TFBertModel from the checkpoint of a model that you expect to be exactly identical (initializing a BertForSequenceClassification model from a BertForSequenceClassification model).\n",
            "All the layers of TFBertModel were initialized from the model checkpoint at bert-large-uncased.\n",
            "If your task is similar to the task the model of the checkpoint was trained on, you can already use TFBertModel for predictions without further training.\n"
          ]
        }
      ]
    },
    {
      "cell_type": "code",
      "metadata": {
        "id": "UDuKHR7OCme0",
        "colab": {
          "base_uri": "https://localhost:8080/"
        },
        "outputId": "d8671f9a-bebb-4418-8684-53837f5e73d4"
      },
      "source": [
        "print(\"max len of tweet\", max([len(x.split()) for x in df.text])) # check max len of a tweet from data"
      ],
      "execution_count": 7,
      "outputs": [
        {
          "output_type": "stream",
          "name": "stdout",
          "text": [
            "max len of tweet 31\n"
          ]
        }
      ]
    },
    {
      "cell_type": "code",
      "metadata": {
        "id": "80vwQm22c3CJ"
      },
      "source": [
        "df_c = df.copy()\n",
        "df_c=df_c.drop(columns=['keyword','id', 'location'])  # drop unrequired columns\n",
        "df_c=df_c.dropna()  # drop NA rows"
      ],
      "execution_count": 8,
      "outputs": []
    },
    {
      "cell_type": "markdown",
      "metadata": {
        "id": "viwjW2x9zGxi"
      },
      "source": [
        "# Clean up data"
      ]
    },
    {
      "cell_type": "code",
      "metadata": {
        "id": "kD9Z1ygbc4ku"
      },
      "source": [
        "df_c.text=df_c.text.apply(lambda x:x.lower())  # conver to lower case\n",
        "\n",
        "#removing square brackets\n",
        "df_c.text=df_c.text.apply(lambda x:re.sub('\\[.*?\\]', '', x) )\n",
        "df_c.text=df_c.text.apply(lambda x:re.sub('<.*?>+', '', x) )\n",
        "\n",
        "#removing hyperlink\n",
        "df_c.text=df_c.text.apply(lambda x:re.sub('https?://\\S+|www\\.\\S+', '', x) )\n",
        "\n",
        "#removing puncuation\n",
        "# df_c.text=df_c.text.apply(lambda x:re.sub('[%s]' % re.escape(string.punctuation), '', x) )\n",
        "# df_c.text=df_c.text.apply(lambda x:re.sub('\\n' , '', x) )\n",
        "\n",
        "#remove words containing numbers\n",
        "df_c.text=df_c.text.apply(lambda x:re.sub('\\w*\\d\\w*' , '', x) )\n",
        "\n",
        "# replace greater/less than symbols\n",
        "df_c.text = df_c.text.apply(lambda x: re.sub(r\"&gt;\", \">\", x))\n",
        "df_c.text = df_c.text.apply(lambda x: re.sub(r\"&lt;\", \"<\", x))\n",
        "df_c.text = df_c.text.apply(lambda x: re.sub(r\"&amp;\", \"&\", x))"
      ],
      "execution_count": 9,
      "outputs": []
    },
    {
      "cell_type": "code",
      "metadata": {
        "id": "9haJN7Jcsg51",
        "colab": {
          "base_uri": "https://localhost:8080/",
          "height": 282
        },
        "outputId": "428a376b-95db-4770-b9b1-54499b17c6d2"
      },
      "source": [
        "# create hstogram for tweet lengths\n",
        "raw_length = [len(i.split()) for i in df_c['text']]\n",
        "\n",
        "pd.Series(raw_length).hist(bins = 30)"
      ],
      "execution_count": 10,
      "outputs": [
        {
          "output_type": "execute_result",
          "data": {
            "text/plain": [
              "<matplotlib.axes._subplots.AxesSubplot at 0x7f3e16408410>"
            ]
          },
          "metadata": {},
          "execution_count": 10
        },
        {
          "output_type": "display_data",
          "data": {
            "image/png": "[encoded data removed]",
            "text/plain": [
              "<Figure size 432x288 with 1 Axes>"
            ]
          },
          "metadata": {
            "needs_background": "light"
          }
        }
      ]
    },
    {
      "cell_type": "code",
      "metadata": {
        "id": "t9zoEx3Yc6Wg"
      },
      "source": [
        "# split data into TRain and Test values via SKLearn utility\n",
        "Train_X, Test_X, Train_Y, Test_Y = model_selection.train_test_split(df_c['text'],df_c['target'], test_size=0.3)"
      ],
      "execution_count": 11,
      "outputs": []
    },
    {
      "cell_type": "markdown",
      "metadata": {
        "id": "xaWRpzhLzCWd"
      },
      "source": [
        "# Set input tokenizers"
      ]
    },
    {
      "cell_type": "code",
      "metadata": {
        "id": "pf7thGnSc8Js"
      },
      "source": [
        " # convert labels into categorical types for 2 classes available (disaster and non-disaster tweets)\n",
        " train_label = keras.utils.to_categorical(Train_Y, num_classes=2).astype('int64')\n",
        " test_label = keras.utils.to_categorical(Test_Y, num_classes=2).astype('int64')\n",
        " \n",
        " # define train and val tokenized input data\n",
        " x_1= tokenizer(\n",
        "    text=Train_X.to_list(),\n",
        "    add_special_tokens=True, #only in this case\n",
        "    max_length=31,\n",
        "    truncation=True,\n",
        "    padding=True,\n",
        "    return_tensors='tf',\n",
        "    return_token_type_ids = False,\n",
        "    return_attention_mask = True,\n",
        "    verbose = True)\n",
        "\n",
        "y_1=train_label\n",
        "\n",
        "x_2= tokenizer(\n",
        "    text=Test_X.to_list(),\n",
        "    add_special_tokens=True, #only in this case\n",
        "    max_length=31,\n",
        "    truncation=True,\n",
        "    padding=True,\n",
        "    return_tensors='tf',\n",
        "    return_token_type_ids = False,\n",
        "    return_attention_mask = True,\n",
        "    verbose = True)\n",
        "\n",
        "y_2=test_label"
      ],
      "execution_count": 12,
      "outputs": []
    },
    {
      "cell_type": "code",
      "metadata": {
        "id": "zekpZ11iIi1N",
        "colab": {
          "base_uri": "https://localhost:8080/"
        },
        "outputId": "18ba89c4-bbcb-41c6-db03-f42d79e3ccd1"
      },
      "source": [
        "x_1['attention_mask'].shape"
      ],
      "execution_count": 13,
      "outputs": [
        {
          "output_type": "execute_result",
          "data": {
            "text/plain": [
              "TensorShape([5329, 31])"
            ]
          },
          "metadata": {},
          "execution_count": 13
        }
      ]
    },
    {
      "cell_type": "code",
      "metadata": {
        "colab": {
          "base_uri": "https://localhost:8080/"
        },
        "id": "JNwP-Ve2pfgL",
        "outputId": "20d22cf2-5c85-46ce-b0fa-162c0ebe6d31"
      },
      "source": [
        "train_label.shape, test_label.shape"
      ],
      "execution_count": 14,
      "outputs": [
        {
          "output_type": "execute_result",
          "data": {
            "text/plain": [
              "((5329, 2), (2284, 2))"
            ]
          },
          "metadata": {},
          "execution_count": 14
        }
      ]
    },
    {
      "cell_type": "markdown",
      "metadata": {
        "id": "pIEHv1suyz2M"
      },
      "source": [
        "# Define entire model\n",
        "\n",
        "### Bert model output used with custom NN"
      ]
    },
    {
      "cell_type": "code",
      "metadata": {
        "id": "VO2BmUMrc-M9",
        "colab": {
          "base_uri": "https://localhost:8080/"
        },
        "outputId": "5b1686ee-0920-4527-84b6-9f2f749ff8c8"
      },
      "source": [
        "max_len = 31 # variable to hold max-len value\n",
        "\n",
        "# define the entire model along with Bert output and custom ANN\n",
        "input_ids = layers.Input(shape=(max_len,), dtype=tf.int32, name=\"input_ids\")\n",
        "\n",
        "input_mask = layers.Input(shape=(max_len,), dtype=tf.int32, name=\"attention_mask\")\n",
        "\n",
        "embeddings = bert(input_ids,attention_mask = input_mask)[1] \n",
        "\n",
        "out = tf.keras.layers.Dropout(0.3)(embeddings)\n",
        "\n",
        "out = layers.Dense(1024, activation='relu')(out)  # 1024 as output of pooled layer from bert-large is 1024 in size\n",
        "\n",
        "out = tf.keras.layers.Dropout(0.3)(out)  # dropout used to reduce over-fitting to some extent\n",
        "\n",
        "out = layers.Dense(128, activation='relu')(out)\n",
        "\n",
        "out = tf.keras.layers.Dropout(0.2)(out)\n",
        "\n",
        "out = layers.Dense(16, activation='relu')(out)\n",
        "\n",
        "out = layers.Dense(2, activation = None)(out)\n",
        "\n",
        "y = layers.Softmax(axis=-1)(out)\n",
        "    \n",
        "model = tf.keras.Model(inputs=[input_ids, input_mask], outputs=y)\n",
        "\n",
        "model.summary()  # check model layout and layers via summary along with total trainable params"
      ],
      "execution_count": 15,
      "outputs": [
        {
          "output_type": "stream",
          "name": "stdout",
          "text": [
            "Model: \"model\"\n",
            "__________________________________________________________________________________________________\n",
            " Layer (type)                   Output Shape         Param #     Connected to                     \n",
            "==================================================================================================\n",
            " input_ids (InputLayer)         [(None, 31)]         0           []                               \n",
            "                                                                                                  \n",
            " attention_mask (InputLayer)    [(None, 31)]         0           []                               \n",
            "                                                                                                  \n",
            " tf_bert_model (TFBertModel)    TFBaseModelOutputWi  335141888   ['input_ids[0][0]',              \n",
            "                                thPoolingAndCrossAt               'attention_mask[0][0]']         \n",
            "                                tentions(last_hidde                                               \n",
            "                                n_state=(None, 31,                                                \n",
            "                                1024),                                                            \n",
            "                                 pooler_output=(Non                                               \n",
            "                                e, 1024),                                                         \n",
            "                                 past_key_values=No                                               \n",
            "                                ne, hidden_states=N                                               \n",
            "                                one, attentions=Non                                               \n",
            "                                e, cross_attentions                                               \n",
            "                                =None)                                                            \n",
            "                                                                                                  \n",
            " dropout_73 (Dropout)           (None, 1024)         0           ['tf_bert_model[0][1]']          \n",
            "                                                                                                  \n",
            " dense (Dense)                  (None, 1024)         1049600     ['dropout_73[0][0]']             \n",
            "                                                                                                  \n",
            " dropout_74 (Dropout)           (None, 1024)         0           ['dense[0][0]']                  \n",
            "                                                                                                  \n",
            " dense_1 (Dense)                (None, 128)          131200      ['dropout_74[0][0]']             \n",
            "                                                                                                  \n",
            " dropout_75 (Dropout)           (None, 128)          0           ['dense_1[0][0]']                \n",
            "                                                                                                  \n",
            " dense_2 (Dense)                (None, 16)           2064        ['dropout_75[0][0]']             \n",
            "                                                                                                  \n",
            " dense_3 (Dense)                (None, 2)            34          ['dense_2[0][0]']                \n",
            "                                                                                                  \n",
            " softmax (Softmax)              (None, 2)            0           ['dense_3[0][0]']                \n",
            "                                                                                                  \n",
            "==================================================================================================\n",
            "Total params: 336,324,786\n",
            "Trainable params: 336,324,786\n",
            "Non-trainable params: 0\n",
            "__________________________________________________________________________________________________\n"
          ]
        }
      ]
    },
    {
      "cell_type": "code",
      "metadata": {
        "id": "CowcG22GetHL",
        "colab": {
          "base_uri": "https://localhost:8080/"
        },
        "outputId": "7f6aa37b-0499-412f-ad9f-5c9c70d82788"
      },
      "source": [
        "model.layers"
      ],
      "execution_count": 16,
      "outputs": [
        {
          "output_type": "execute_result",
          "data": {
            "text/plain": [
              "[<keras.engine.input_layer.InputLayer at 0x7f3e16318090>,\n",
              " <keras.engine.input_layer.InputLayer at 0x7f3e162f1510>,\n",
              " <transformers.models.bert.modeling_tf_bert.TFBertModel at 0x7f3e95695e10>,\n",
              " <keras.layers.core.dropout.Dropout at 0x7f3df017fbd0>,\n",
              " <keras.layers.core.dense.Dense at 0x7f3e162f1910>,\n",
              " <keras.layers.core.dropout.Dropout at 0x7f3d77b1d310>,\n",
              " <keras.layers.core.dense.Dense at 0x7f3d77a84350>,\n",
              " <keras.layers.core.dropout.Dropout at 0x7f3d77bb5a90>,\n",
              " <keras.layers.core.dense.Dense at 0x7f3d77abccd0>,\n",
              " <keras.layers.core.dense.Dense at 0x7f3e801a2410>,\n",
              " <keras.layers.advanced_activations.Softmax at 0x7f3d77f2ed50>]"
            ]
          },
          "metadata": {},
          "execution_count": 16
        }
      ]
    },
    {
      "cell_type": "code",
      "metadata": {
        "id": "g6iX2Ekee4HD"
      },
      "source": [
        "model.layers[2].trainable = True # index 2 in Model layers is the bert model, which we have fine-tuned for few epochs with additional ANN"
      ],
      "execution_count": 17,
      "outputs": []
    },
    {
      "cell_type": "markdown",
      "metadata": {
        "id": "NB0PPhGqyuYs"
      },
      "source": [
        "# Define optimizer, loss, metric and compile model"
      ]
    },
    {
      "cell_type": "code",
      "metadata": {
        "id": "xAZb3IeHX2MM"
      },
      "source": [
        "initial_lr = 8e-5\n",
        "\n",
        "# define Optimizer to be used to update weights after backprop\n",
        "optimizer = keras.optimizers.Adam(\n",
        "    learning_rate=initial_lr,\n",
        "    decay=0.01,\n",
        "    clipnorm=1.0)  # have used clipnorm to apply Gradient Clipping to avoid large gradients from ruining pre-trained model much from large updates\n",
        "\n",
        "# Set loss and metric to be used\n",
        "loss = keras.losses.BinaryCrossentropy(from_logits = False)\n",
        "\n",
        "metric = keras.metrics.BinaryAccuracy('accuracy')\n",
        "\n",
        "# Compile the model with optimizer and loss to be used\n",
        "model.compile(\n",
        "    optimizer = optimizer,\n",
        "    loss = loss, \n",
        "    metrics = metric)\n"
      ],
      "execution_count": 18,
      "outputs": []
    },
    {
      "cell_type": "markdown",
      "metadata": {
        "id": "LoTQCokuxDly"
      },
      "source": [
        "# Learning rate schedules\n",
        "\n",
        "![](https://miro.medium.com/max/2000/1*6Zr7nkI97IGT9e_tpgK-_g.png)\n",
        "\n",
        "Learning Rate Schedules seek to adjust the learning rate during training by reducing the learning rate according to a pre-defined schedule. The popular learning rate schedules include\n",
        "#### 1. Constant learning rate\n",
        "----\n",
        "\n",
        "#### 2. Time-based decay\n",
        "![](https://miro.medium.com/max/1400/1*zyQulWm4KRkiWtL_e5Mnyg.png)\n",
        "----\n",
        "\n",
        "#### 3. Step decay\n",
        "![](https://miro.medium.com/max/1400/1*5N95STd9deaYati3Cn4o6g.png)\n",
        "----\n",
        "#### 4. Exponential decay\n",
        "![](https://miro.medium.com/max/1400/1*CgioTtU7G7mL202dL7CVfg.png)"
      ]
    },
    {
      "cell_type": "code",
      "metadata": {
        "id": "WAUnGZgynAjY"
      },
      "source": [
        "initial_learning_rate = initial_lr\n",
        "epochs = 25\n",
        "\n",
        "# calcualte decay rate based on total epochs and initial LR\n",
        "decay = initial_learning_rate / epochs\n",
        "\n",
        "# Time based learning weight decay\n",
        "def lr_time_based_decay(epoch, lr):\n",
        "    return lr * 1 / (1 + decay * epoch)\n",
        "\n",
        "# Exponential learning rate decay\n",
        "def lr_exp_decay(epoch, lr):\n",
        "    k = 0.1\n",
        "    return initial_learning_rate * math.exp(-k*epoch)"
      ],
      "execution_count": 19,
      "outputs": []
    },
    {
      "cell_type": "code",
      "metadata": {
        "colab": {
          "base_uri": "https://localhost:8080/",
          "height": 987
        },
        "id": "AKYBADbwFeSZ",
        "outputId": "ca107801-ddfe-4106-979f-c0da75a3af32"
      },
      "source": [
        "plot_model(model, to_file='model_plot.png', show_shapes=True, show_layer_names=True)  # plot model layers in pictorial form"
      ],
      "execution_count": 20,
      "outputs": [
        {
          "output_type": "execute_result",
          "data": {
            "image/png": "[encoded data removed]",
            "text/plain": [
              "<IPython.core.display.Image object>"
            ]
          },
          "metadata": {},
          "execution_count": 20
        }
      ]
    },
    {
      "cell_type": "markdown",
      "metadata": {
        "id": "0xIGRA-xymWe"
      },
      "source": [
        "# Model save checkpoint callback"
      ]
    },
    {
      "cell_type": "code",
      "metadata": {
        "id": "ILayqSTnhnwU"
      },
      "source": [
        "# To save improved trained model after checking Validation accuracy improvement at each epoch\n",
        "checkpoint_filepath = '/tmp/checkpoint'\n",
        "\n",
        "# we will monitor 'val-accuracy', we want to save model if val-acc. increases and want to save entire model and not just trained weights\n",
        "model_checkpoint_callback = tf.keras.callbacks.ModelCheckpoint(\n",
        "    filepath=checkpoint_filepath,\n",
        "    save_weights_only=False,\n",
        "    monitor='val_accuracy',\n",
        "    mode='max',\n",
        "    save_best_only=True)"
      ],
      "execution_count": 21,
      "outputs": []
    },
    {
      "cell_type": "markdown",
      "metadata": {
        "id": "nHLeVIO9yeqB"
      },
      "source": [
        "# Train model"
      ]
    },
    {
      "cell_type": "code",
      "metadata": {
        "colab": {
          "base_uri": "https://localhost:8080/"
        },
        "id": "J5cw_UJvdCmF",
        "outputId": "9811ecd1-f0a1-4afa-bc1f-0364218052f2"
      },
      "source": [
        "# Train the model using train and validation data, with callbacks for ModelCheckPoint as well as Learning Rate Scheduler, for `epochs` epochs\n",
        "train_history = model.fit(\n",
        "    x ={'input_ids':x_1['input_ids'],'attention_mask':x_1['attention_mask']},\n",
        "    y = y_1,\n",
        "    epochs=epochs,\n",
        "    batch_size=64,\n",
        "    callbacks=[tf.keras.callbacks.LearningRateScheduler(lr_exp_decay, verbose=1)],\n",
        "    validation_data=({'input_ids':x_2['input_ids'],'attention_mask':x_2['attention_mask']}, y_2)\n",
        ")"
      ],
      "execution_count": 22,
      "outputs": [
        {
          "output_type": "stream",
          "name": "stdout",
          "text": [
            "\n",
            "Epoch 00001: LearningRateScheduler setting learning rate to 8e-05.\n",
            "Epoch 1/25\n",
            "84/84 [==============================] - 124s 1s/step - loss: 0.6151 - accuracy: 0.6872 - val_loss: 0.4373 - val_accuracy: 0.8179 - lr: 8.0000e-05\n",
            "\n",
            "Epoch 00002: LearningRateScheduler setting learning rate to 7.238699344287677e-05.\n",
            "Epoch 2/25\n",
            "84/84 [==============================] - 78s 935ms/step - loss: 0.4224 - accuracy: 0.8337 - val_loss: 0.3931 - val_accuracy: 0.8367 - lr: 7.2387e-05\n",
            "\n",
            "Epoch 00003: LearningRateScheduler setting learning rate to 6.549846024623856e-05.\n",
            "Epoch 3/25\n",
            "84/84 [==============================] - 78s 935ms/step - loss: 0.3284 - accuracy: 0.8743 - val_loss: 0.4377 - val_accuracy: 0.8249 - lr: 6.5498e-05\n",
            "\n",
            "Epoch 00004: LearningRateScheduler setting learning rate to 5.926545765453743e-05.\n",
            "Epoch 4/25\n",
            "84/84 [==============================] - 78s 934ms/step - loss: 0.2700 - accuracy: 0.9005 - val_loss: 0.4014 - val_accuracy: 0.8341 - lr: 5.9265e-05\n",
            "\n",
            "Epoch 00005: LearningRateScheduler setting learning rate to 5.3625603682851154e-05.\n",
            "Epoch 5/25\n",
            "84/84 [==============================] - 78s 935ms/step - loss: 0.2225 - accuracy: 0.9159 - val_loss: 0.5153 - val_accuracy: 0.8161 - lr: 5.3626e-05\n",
            "\n",
            "Epoch 00006: LearningRateScheduler setting learning rate to 4.8522452777010675e-05.\n",
            "Epoch 6/25\n",
            "84/84 [==============================] - 78s 935ms/step - loss: 0.1743 - accuracy: 0.9381 - val_loss: 0.5437 - val_accuracy: 0.8284 - lr: 4.8522e-05\n",
            "\n",
            "Epoch 00007: LearningRateScheduler setting learning rate to 4.3904930887522114e-05.\n",
            "Epoch 7/25\n",
            "84/84 [==============================] - 78s 934ms/step - loss: 0.1424 - accuracy: 0.9503 - val_loss: 0.5422 - val_accuracy: 0.8306 - lr: 4.3905e-05\n",
            "\n",
            "Epoch 00008: LearningRateScheduler setting learning rate to 3.972682430331276e-05.\n",
            "Epoch 8/25\n",
            "84/84 [==============================] - 78s 934ms/step - loss: 0.1144 - accuracy: 0.9615 - val_loss: 0.6224 - val_accuracy: 0.8201 - lr: 3.9727e-05\n",
            "\n",
            "Epoch 00009: LearningRateScheduler setting learning rate to 3.594631712937773e-05.\n",
            "Epoch 9/25\n",
            "84/84 [==============================] - 78s 934ms/step - loss: 0.1000 - accuracy: 0.9692 - val_loss: 0.7340 - val_accuracy: 0.8165 - lr: 3.5946e-05\n",
            "\n",
            "Epoch 00010: LearningRateScheduler setting learning rate to 3.252557277924793e-05.\n",
            "Epoch 10/25\n",
            "84/84 [==============================] - 78s 934ms/step - loss: 0.0869 - accuracy: 0.9724 - val_loss: 0.7939 - val_accuracy: 0.7999 - lr: 3.2526e-05\n",
            "\n",
            "Epoch 00011: LearningRateScheduler setting learning rate to 2.943035529371539e-05.\n",
            "Epoch 11/25\n",
            "84/84 [==============================] - 78s 934ms/step - loss: 0.0715 - accuracy: 0.9752 - val_loss: 0.7965 - val_accuracy: 0.8126 - lr: 2.9430e-05\n",
            "\n",
            "Epoch 00012: LearningRateScheduler setting learning rate to 2.6629686695846367e-05.\n",
            "Epoch 12/25\n",
            "84/84 [==============================] - 78s 934ms/step - loss: 0.0694 - accuracy: 0.9773 - val_loss: 0.7900 - val_accuracy: 0.8157 - lr: 2.6630e-05\n",
            "\n",
            "Epoch 00013: LearningRateScheduler setting learning rate to 2.4095536952976164e-05.\n",
            "Epoch 13/25\n",
            "84/84 [==============================] - 78s 935ms/step - loss: 0.0660 - accuracy: 0.9782 - val_loss: 0.8281 - val_accuracy: 0.8165 - lr: 2.4096e-05\n",
            "\n",
            "Epoch 00014: LearningRateScheduler setting learning rate to 2.180254344272101e-05.\n",
            "Epoch 14/25\n",
            "84/84 [==============================] - 78s 934ms/step - loss: 0.0608 - accuracy: 0.9814 - val_loss: 0.8773 - val_accuracy: 0.8126 - lr: 2.1803e-05\n",
            "\n",
            "Epoch 00015: LearningRateScheduler setting learning rate to 1.9727757115328516e-05.\n",
            "Epoch 15/25\n",
            "84/84 [==============================] - 78s 934ms/step - loss: 0.0591 - accuracy: 0.9782 - val_loss: 0.8540 - val_accuracy: 0.8144 - lr: 1.9728e-05\n",
            "\n",
            "Epoch 00016: LearningRateScheduler setting learning rate to 1.7850412811874386e-05.\n",
            "Epoch 16/25\n",
            "84/84 [==============================] - 78s 934ms/step - loss: 0.0587 - accuracy: 0.9797 - val_loss: 0.8906 - val_accuracy: 0.8109 - lr: 1.7850e-05\n",
            "\n",
            "Epoch 00017: LearningRateScheduler setting learning rate to 1.615172143957243e-05.\n",
            "Epoch 17/25\n",
            "84/84 [==============================] - 78s 934ms/step - loss: 0.0551 - accuracy: 0.9799 - val_loss: 0.8597 - val_accuracy: 0.8157 - lr: 1.6152e-05\n",
            "\n",
            "Epoch 00018: LearningRateScheduler setting learning rate to 1.461468192421877e-05.\n",
            "Epoch 18/25\n",
            "84/84 [==============================] - 78s 934ms/step - loss: 0.0544 - accuracy: 0.9803 - val_loss: 0.8557 - val_accuracy: 0.8161 - lr: 1.4615e-05\n",
            "\n",
            "Epoch 00019: LearningRateScheduler setting learning rate to 1.3223911057726924e-05.\n",
            "Epoch 19/25\n",
            "84/84 [==============================] - 78s 934ms/step - loss: 0.0529 - accuracy: 0.9833 - val_loss: 0.8773 - val_accuracy: 0.8144 - lr: 1.3224e-05\n",
            "\n",
            "Epoch 00020: LearningRateScheduler setting learning rate to 1.1965489537810804e-05.\n",
            "Epoch 20/25\n",
            "84/84 [==============================] - 78s 935ms/step - loss: 0.0490 - accuracy: 0.9840 - val_loss: 0.9069 - val_accuracy: 0.8113 - lr: 1.1965e-05\n",
            "\n",
            "Epoch 00021: LearningRateScheduler setting learning rate to 1.0826822658929016e-05.\n",
            "Epoch 21/25\n",
            "84/84 [==============================] - 78s 934ms/step - loss: 0.0479 - accuracy: 0.9833 - val_loss: 0.8989 - val_accuracy: 0.8165 - lr: 1.0827e-05\n",
            "\n",
            "Epoch 00022: LearningRateScheduler setting learning rate to 9.796514260238554e-06.\n",
            "Epoch 22/25\n",
            "84/84 [==============================] - 78s 934ms/step - loss: 0.0539 - accuracy: 0.9814 - val_loss: 0.8953 - val_accuracy: 0.8157 - lr: 9.7965e-06\n",
            "\n",
            "Epoch 00023: LearningRateScheduler setting learning rate to 8.864252668986711e-06.\n",
            "Epoch 23/25\n",
            "84/84 [==============================] - 78s 933ms/step - loss: 0.0455 - accuracy: 0.9861 - val_loss: 0.9121 - val_accuracy: 0.8117 - lr: 8.8643e-06\n",
            "\n",
            "Epoch 00024: LearningRateScheduler setting learning rate to 8.020707497824297e-06.\n",
            "Epoch 24/25\n",
            "84/84 [==============================] - 78s 933ms/step - loss: 0.0456 - accuracy: 0.9842 - val_loss: 0.9236 - val_accuracy: 0.8113 - lr: 8.0207e-06\n",
            "\n",
            "Epoch 00025: LearningRateScheduler setting learning rate to 7.257436263152998e-06.\n",
            "Epoch 25/25\n",
            "84/84 [==============================] - 78s 932ms/step - loss: 0.0498 - accuracy: 0.9827 - val_loss: 0.9268 - val_accuracy: 0.8109 - lr: 7.2574e-06\n"
          ]
        }
      ]
    },
    {
      "cell_type": "markdown",
      "metadata": {
        "id": "_FK3vZAHyiGX"
      },
      "source": [
        "# Plot loss and accuracy"
      ]
    },
    {
      "cell_type": "code",
      "metadata": {
        "colab": {
          "base_uri": "https://localhost:8080/",
          "height": 308
        },
        "id": "j4LfeWNuMrd6",
        "outputId": "584b1100-c8c7-43d9-fb41-d73ed32e4584"
      },
      "source": [
        "# Get the loss and accuracy metrics for plotting\n",
        "train_loss = train_history.history['loss']\n",
        "val_loss = train_history.history['val_loss']\n",
        "train_acc = train_history.history['accuracy']\n",
        "val_acc = train_history.history['val_accuracy']\n",
        "\n",
        "# Plot the training and validation metrics\n",
        "fig, (ax1, ax2) = plt.subplots(2, 1, sharex=True)\n",
        "sns.lineplot(ax=ax1, data = train_acc, label=f'Training Accuracy')\n",
        "sns.lineplot(ax=ax1, data = val_acc, label=f'Validation Accuracy')\n",
        "sns.lineplot(ax=ax2, data = train_loss, label=f'Training Loss')\n",
        "sns.lineplot(ax=ax2, data = val_loss, label=f'Validation Loss')\n",
        "ax1.set_ylabel('Accuracy')\n",
        "ax1.set_xlim(xmin=0)\n",
        "ax2.set_ylabel('Loss')\n",
        "ax2.set_xlabel('Epochs')\n",
        "ax2.set_xlim(xmin=0)\n",
        "plt.suptitle('History')\n",
        "plt.show()"
      ],
      "execution_count": 23,
      "outputs": [
        {
          "output_type": "display_data",
          "data": {
            "image/png": "[encoded data removed]",
            "text/plain": [
              "<Figure size 432x288 with 2 Axes>"
            ]
          },
          "metadata": {
            "needs_background": "light"
          }
        }
      ]
    },
    {
      "cell_type": "code",
      "metadata": {
        "id": "eBI9kNwZnG3J",
        "colab": {
          "base_uri": "https://localhost:8080/"
        },
        "outputId": "e0939445-9642-40f4-ee2f-488b01c669c1"
      },
      "source": [
        "from sklearn.metrics import accuracy_score, classification_report, confusion_matrix\n",
        "y_pred = model.predict({'input_ids':x_2['input_ids'],'attention_mask':x_2['attention_mask']})\n",
        "print(\"Accuracy:\", accuracy_score(y_2, y_pred.round())) # Value between 0 and 1\n",
        "preds = np.argmax(y_pred, axis = 1)\n",
        "print(classification_report(np.argmax(y_2, axis = 1), preds))\n",
        "print(confusion_matrix(np.argmax(y_2, axis = 1), preds))"
      ],
      "execution_count": 24,
      "outputs": [
        {
          "output_type": "stream",
          "name": "stdout",
          "text": [
            "Accuracy: 0.8108581436077058\n",
            "              precision    recall  f1-score   support\n",
            "\n",
            "           0       0.84      0.82      0.83      1301\n",
            "           1       0.77      0.80      0.78       983\n",
            "\n",
            "    accuracy                           0.81      2284\n",
            "   macro avg       0.81      0.81      0.81      2284\n",
            "weighted avg       0.81      0.81      0.81      2284\n",
            "\n",
            "[[1068  233]\n",
            " [ 199  784]]\n"
          ]
        }
      ]
    },
    {
      "cell_type": "code",
      "metadata": {
        "id": "ZXm11Zx7nISE"
      },
      "source": [
        ""
      ],
      "execution_count": 24,
      "outputs": []
    }
  ]
}