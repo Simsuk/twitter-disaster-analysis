{
  "nbformat": 4,
  "nbformat_minor": 0,
  "metadata": {
    "accelerator": "GPU",
    "colab": {
      "name": "Copy of Capstone_BERT_base_first working_testovani_2b.ipynb",
      "provenance": [],
      "collapsed_sections": []
    },
    "kernelspec": {
      "display_name": "Python 3",
      "name": "python3"
    },
    "language_info": {
      "name": "python"
    }
  },
  "cells": [
    {
      "cell_type": "code",
      "metadata": {
        "id": "Yt2gDkhjc0U3"
      },
      "source": [
        "!pip install transformers -q"
      ],
      "execution_count": null,
      "outputs": []
    },
    {
      "cell_type": "code",
      "metadata": {
        "colab": {
          "base_uri": "https://localhost:8080/"
        },
        "id": "LtWn_Vz8csX3",
        "outputId": "7b59901f-a037-4436-a710-681e14369bfc"
      },
      "source": [
        "import pandas as pd\n",
        "import re\n",
        "import string\n",
        "from transformers import BertTokenizer, TFBertModel\n",
        "import numpy as np\n",
        "from sklearn import model_selection\n",
        "from keras import layers\n",
        "#from transformers import AutoModelForSequenceClassification\n",
        "\n",
        "URL = 'https://drive.google.com/file/d/1fLX0XxkbSXatVevvndyqkBDxNOgWcUHP/view?usp=sharing'\n",
        "path = 'https://drive.google.com/uc?export=download&id='+URL.split('/')[-2]\n",
        "#df = pd.read_pickle(path)\n",
        "df = pd.read_csv(path)\n",
        "df.head()\n",
        "\n",
        "bert = TFBertModel.from_pretrained('bert-base-uncased', num_labels=2)\n",
        "#bert = AutoModelForSequenceClassification.from_pretrained(\"bert-base-uncased\", num_labels=2)\n",
        "tokenizer = BertTokenizer.from_pretrained('bert-base-uncased', num_labels=2)\n"
      ],
      "execution_count": null,
      "outputs": [
        {
          "output_type": "stream",
          "name": "stderr",
          "text": [
            "Some layers from the model checkpoint at bert-base-uncased were not used when initializing TFBertModel: ['nsp___cls', 'mlm___cls']\n",
            "- This IS expected if you are initializing TFBertModel from the checkpoint of a model trained on another task or with another architecture (e.g. initializing a BertForSequenceClassification model from a BertForPreTraining model).\n",
            "- This IS NOT expected if you are initializing TFBertModel from the checkpoint of a model that you expect to be exactly identical (initializing a BertForSequenceClassification model from a BertForSequenceClassification model).\n",
            "All the layers of TFBertModel were initialized from the model checkpoint at bert-base-uncased.\n",
            "If your task is similar to the task the model of the checkpoint was trained on, you can already use TFBertModel for predictions without further training.\n"
          ]
        }
      ]
    },
    {
      "cell_type": "code",
      "metadata": {
        "id": "80vwQm22c3CJ"
      },
      "source": [
        "df_c = df.copy()\n",
        "df_c=df_c.drop(columns=['keyword','id', 'location'])\n",
        "df_c=df_c.dropna()"
      ],
      "execution_count": null,
      "outputs": []
    },
    {
      "cell_type": "code",
      "metadata": {
        "id": "kD9Z1ygbc4ku",
        "colab": {
          "base_uri": "https://localhost:8080/"
        },
        "outputId": "87622779-aa05-428e-a89c-3de6cb5d4b17"
      },
      "source": [
        "df_c.text=df_c.text.apply(lambda x:x.lower() )\n",
        "#removing square brackets\n",
        "df_c.text=df_c.text.apply(lambda x:re.sub('\\[.*?\\]', '', x) )\n",
        "df_c.text=df_c.text.apply(lambda x:re.sub('<.*?>+', '', x) )\n",
        "#removing hyperlink\n",
        "df_c.text=df_c.text.apply(lambda x:re.sub('https?://\\S+|www\\.\\S+', '', x) )\n",
        "#removing puncuation\n",
        "df_c.text=df_c.text.apply(lambda x:re.sub('[%s]' % re.escape(string.punctuation), '', x) )\n",
        "df_c.text=df_c.text.apply(lambda x:re.sub('\\n' , '', x) )\n",
        "#remove words containing numbers\n",
        "df_c.text=df_c.text.apply(lambda x:re.sub('\\w*\\d\\w*' , '', x) )\n",
        "\n",
        "#df_c.iloc[:-10]"
      ],
      "execution_count": null,
      "outputs": [
        {
          "output_type": "stream",
          "name": "stderr",
          "text": [
            "/usr/local/lib/python3.7/dist-packages/pandas/core/generic.py:5170: SettingWithCopyWarning: \n",
            "A value is trying to be set on a copy of a slice from a DataFrame.\n",
            "Try using .loc[row_indexer,col_indexer] = value instead\n",
            "\n",
            "See the caveats in the documentation: https://pandas.pydata.org/pandas-docs/stable/user_guide/indexing.html#returning-a-view-versus-a-copy\n",
            "  self[name] = value\n"
          ]
        }
      ]
    },
    {
      "cell_type": "code",
      "metadata": {
        "colab": {
          "base_uri": "https://localhost:8080/",
          "height": 282
        },
        "id": "9haJN7Jcsg51",
        "outputId": "0d5744fd-6333-4c83-971c-c46bf7e57eb9"
      },
      "source": [
        "raw_length = [len(i.split()) for i in df_c['text']]\n",
        "\n",
        "pd.Series(raw_length).hist(bins = 30)"
      ],
      "execution_count": null,
      "outputs": [
        {
          "data": {
            "text/plain": [
              "<matplotlib.axes._subplots.AxesSubplot at 0x7f8308243ed0>"
            ]
          },
          "execution_count": 37,
          "metadata": {},
          "output_type": "execute_result"
        },
        {
          "data": {
            "image/png": "[encoded data removed]",
            "text/plain": [
              "<Figure size 432x288 with 1 Axes>"
            ]
          },
          "metadata": {},
          "output_type": "display_data"
        }
      ]
    },
    {
      "cell_type": "code",
      "metadata": {
        "colab": {
          "base_uri": "https://localhost:8080/"
        },
        "id": "o4zqmAJnISR4",
        "outputId": "932dd228-789c-4776-c4f0-f4c436055e44"
      },
      "source": [
        "print(\"max len of tweets\",max([len(x.split()) for x in df_c['text']]))"
      ],
      "execution_count": null,
      "outputs": [
        {
          "name": "stdout",
          "output_type": "stream",
          "text": [
            "max len of tweets 31\n"
          ]
        }
      ]
    },
    {
      "cell_type": "code",
      "metadata": {
        "id": "t9zoEx3Yc6Wg"
      },
      "source": [
        "Train_X, Test_X, Train_Y, Test_Y = model_selection.train_test_split(df_c['text'],df_c['target'],test_size=0.3)"
      ],
      "execution_count": null,
      "outputs": []
    },
    {
      "cell_type": "code",
      "metadata": {
        "colab": {
          "base_uri": "https://localhost:8080/"
        },
        "id": "p6RMnRzS87QP",
        "outputId": "6562e6c8-524b-42dd-a62b-207f9ffd7bea"
      },
      "source": [
        "Train_Y"
      ],
      "execution_count": null,
      "outputs": [
        {
          "data": {
            "text/plain": [
              "8487     0.0\n",
              "153      0.0\n",
              "5505     1.0\n",
              "9576     0.0\n",
              "7532     1.0\n",
              "        ... \n",
              "10775    1.0\n",
              "3936     1.0\n",
              "3570     0.0\n",
              "9434     0.0\n",
              "1017     0.0\n",
              "Name: target, Length: 5329, dtype: float64"
            ]
          },
          "execution_count": 39,
          "metadata": {},
          "output_type": "execute_result"
        }
      ]
    },
    {
      "cell_type": "code",
      "metadata": {
        "id": "pf7thGnSc8Js"
      },
      "source": [
        " x_1= tokenizer(\n",
        "    text=Train_X.to_list(),\n",
        "    add_special_tokens=True, #only in this case\n",
        "    max_length=31, #not sure about this\n",
        "    truncation=True,\n",
        "    padding=True,\n",
        "    return_tensors='tf',\n",
        "    return_token_type_ids = False,\n",
        "    return_attention_mask = True,\n",
        "    verbose = True)\n",
        "\n",
        "y_1=Train_Y.to_numpy()\n",
        "#y_1=Train_Y.values\n",
        "#y_1 =tf.keras.utils.to_categorical(y_1, num_classes=2)\n",
        "# test\n",
        " x_2= tokenizer(\n",
        "    text=Test_X.to_list(),\n",
        "    add_special_tokens=True, #only in this case\n",
        "    max_length=31,\n",
        "    truncation=True,\n",
        "    padding=True,\n",
        "    return_tensors='tf',\n",
        "    return_token_type_ids = False,\n",
        "    return_attention_mask = True,\n",
        "    verbose = True)\n",
        "\n",
        "y_2=Test_Y.to_numpy()\n",
        "#y_2=Test_Y.values\n",
        "#y_1 = np.asarray(y_1).astype('float32').reshape((-1,1))\n",
        "#y_2 = np.asarray(y_2).astype('float32').reshape((-1,1))\n",
        "\n",
        "#y_2 =tf.keras.utils.to_categorical(y_2, num_classes=2)"
      ],
      "execution_count": null,
      "outputs": []
    },
    {
      "cell_type": "code",
      "metadata": {
        "colab": {
          "base_uri": "https://localhost:8080/"
        },
        "id": "zekpZ11iIi1N",
        "outputId": "2394a4ce-128c-4984-a9bf-f6dfa8a32164"
      },
      "source": [
        "x_1['attention_mask'].shape"
      ],
      "execution_count": null,
      "outputs": [
        {
          "data": {
            "text/plain": [
              "TensorShape([5329, 31])"
            ]
          },
          "execution_count": 41,
          "metadata": {},
          "output_type": "execute_result"
        }
      ]
    },
    {
      "cell_type": "code",
      "metadata": {
        "colab": {
          "base_uri": "https://localhost:8080/"
        },
        "id": "zNOpMdi_8yy1",
        "outputId": "9fe2c798-e5d0-4109-e4cb-c4528941631b"
      },
      "source": [
        "y_1[3]"
      ],
      "execution_count": null,
      "outputs": [
        {
          "data": {
            "text/plain": [
              "0.0"
            ]
          },
          "execution_count": 32,
          "metadata": {},
          "output_type": "execute_result"
        }
      ]
    },
    {
      "cell_type": "code",
      "metadata": {
        "colab": {
          "base_uri": "https://localhost:8080/"
        },
        "id": "0y-1wxbWIkHn",
        "outputId": "89f14a49-ea75-499e-d145-8aa008def87c"
      },
      "source": [
        "x_1['input_ids'].shape"
      ],
      "execution_count": null,
      "outputs": [
        {
          "data": {
            "text/plain": [
              "TensorShape([5329, 31])"
            ]
          },
          "execution_count": 15,
          "metadata": {},
          "output_type": "execute_result"
        }
      ]
    },
    {
      "cell_type": "code",
      "metadata": {
        "colab": {
          "base_uri": "https://localhost:8080/"
        },
        "id": "sJCikyZrIpFo",
        "outputId": "f323ff64-eae1-40a3-f260-deb18ee83b22"
      },
      "source": [
        "y_1.shape"
      ],
      "execution_count": null,
      "outputs": [
        {
          "data": {
            "text/plain": [
              "(5329,)"
            ]
          },
          "execution_count": 16,
          "metadata": {},
          "output_type": "execute_result"
        }
      ]
    },
    {
      "cell_type": "code",
      "metadata": {
        "colab": {
          "base_uri": "https://localhost:8080/"
        },
        "id": "jpriI_MiOVlw",
        "outputId": "1a3ad2f7-8247-45ee-ffde-2ec472321006"
      },
      "source": [
        "type (x_2)"
      ],
      "execution_count": null,
      "outputs": [
        {
          "data": {
            "text/plain": [
              "transformers.tokenization_utils_base.BatchEncoding"
            ]
          },
          "execution_count": 53,
          "metadata": {},
          "output_type": "execute_result"
        }
      ]
    },
    {
      "cell_type": "code",
      "metadata": {
        "colab": {
          "base_uri": "https://localhost:8080/"
        },
        "id": "a2HgQQR4FkZ9",
        "outputId": "a0f92591-bffd-4f03-fcb7-e4ea18c1a0b6"
      },
      "source": [
        "x_2"
      ],
      "execution_count": null,
      "outputs": [
        {
          "data": {
            "text/plain": [
              "{'input_ids': <tf.Tensor: shape=(2284, 31), dtype=int32, numpy=\n",
              "array([[  101,  2028,  2158, ...,     0,     0,     0],\n",
              "       [  101,  2664,  2178, ...,     0,     0,     0],\n",
              "       [  101,  7110,  2102, ...,     0,     0,     0],\n",
              "       ...,\n",
              "       [  101,  2256, 12508, ...,     0,     0,     0],\n",
              "       [  101, 13879,  3475, ...,     0,     0,     0],\n",
              "       [  101,  1045, 25430, ...,     0,     0,     0]], dtype=int32)>, 'attention_mask': <tf.Tensor: shape=(2284, 31), dtype=int32, numpy=\n",
              "array([[1, 1, 1, ..., 0, 0, 0],\n",
              "       [1, 1, 1, ..., 0, 0, 0],\n",
              "       [1, 1, 1, ..., 0, 0, 0],\n",
              "       ...,\n",
              "       [1, 1, 1, ..., 0, 0, 0],\n",
              "       [1, 1, 1, ..., 0, 0, 0],\n",
              "       [1, 1, 1, ..., 0, 0, 0]], dtype=int32)>}"
            ]
          },
          "execution_count": 56,
          "metadata": {},
          "output_type": "execute_result"
        }
      ]
    },
    {
      "cell_type": "code",
      "metadata": {
        "colab": {
          "base_uri": "https://localhost:8080/",
          "height": 385
        },
        "id": "VO2BmUMrc-M9",
        "outputId": "91fc7c5b-83f5-4511-e34e-4b95f2335820"
      },
      "source": [
        "import tensorflow as tf\n",
        "from tensorflow import keras\n",
        "from tensorflow.keras.utils import plot_model\n",
        "'''''\n",
        "\n",
        "input_ids = keras.Input(shape=(max_len,), dtype=tf.int32, name=\"input_ids\")\n",
        "input_mask = keras.Input(shape=(max_len,), dtype=tf.int32, name=\"attention_mask\")\n",
        "embeddings = bert(input_ids,attention_mask = input_mask)[1]\n",
        "out = tf.keras.layers.Dropout(0.1)(embeddings)\n",
        "out = keras.layers.Dense(128, activation='relu')(out)\n",
        "out = tf.keras.layers.Dropout(0.1)(out)\n",
        "out = keras.layers.Dense(32,activation = 'relu')(out)\n",
        "y = keras.layers.Dense(1,activation = 'sigmoid')(out)\n",
        "    \n",
        "model = tf.keras.Model(inputs=[input_ids, input_mask], outputs=y)\n",
        "model.layers[2].trainable = True\n",
        "'''''\n",
        "for layer in bert.layers:\n",
        "  layer.trainable = False\n",
        "## QA Model\n",
        "max_len = 31 \n",
        "input_ids = layers.Input(shape=(max_len,), dtype=tf.int32, name=\"input_ids\")\n",
        "attention_mask = layers.Input(shape=(max_len,), dtype=tf.int32, name=\"attention_mask\")\n",
        "embedding = bert(\n",
        "    input_ids,  attention_mask=attention_mask\n",
        ")[1]\n",
        "out = layers.Dense(128, name=\"start\", activation = 'relu')(embedding)\n",
        "outs = layers.Dense(1, activation = 'sigmoid')(out)\n",
        "\n",
        "model = keras.Model(\n",
        "    inputs=[input_ids, attention_mask]\n",
        "    , outputs=outs\n",
        ")\n",
        "metrics = keras.metrics.BinaryAccuracy('accuracy')\n",
        "loss = keras.losses.BinaryCrossentropy()\n",
        "optimizer = keras.optimizers.Adam(\n",
        "    learning_rate==5e-5, # this learning rate is taken from huggingface website \n",
        "    #epsilon=1e-08,\n",
        "    #decay=0.01,\n",
        "    #clipnorm=1.0\n",
        "    )\n",
        "#optimizer =tf.keras.optimizers.SGD()\n",
        "model.compile(optimizer=optimizer, loss=loss, metrics=metrics)\n",
        "plot_model(model, to_file='mod_plot.png', show_shapes=True, show_layer_names=True)"
      ],
      "execution_count": null,
      "outputs": [
        {
          "output_type": "execute_result",
          "data": {
            "image/png": "[encoded data removed]",
            "text/plain": [
              "<IPython.core.display.Image object>"
            ]
          },
          "metadata": {},
          "execution_count": 18
        }
      ]
    },
    {
      "cell_type": "code",
      "metadata": {
        "id": "eWacIgZPc_54"
      },
      "source": [
        "'''''\n",
        "optimizer = keras.optimizers.Adam(\n",
        "    learning_rate=6e-06, # this learning rate is taken from huggingface website \n",
        "    epsilon=1e-08,\n",
        "    decay=0.01,\n",
        "    clipnorm=1.0)\n",
        "\n",
        "# Set loss and metrics\n",
        "loss = keras.losses.BinaryCrossentropy(from_logits = True)\n",
        "metric = keras.metrics.BinaryAccuracy('accuracy'),\n",
        "# Compile the model\n",
        "model.compile(\n",
        "    optimizer = optimizer,\n",
        "    loss = loss, \n",
        "    metrics = metric)\n",
        "\n",
        "#loss = keras.losses.BinaryCrossentropy(from_logits = False)\n",
        "#from keras.optimizers import SGD\n",
        "#optimizer = SGD(lr=0.01)\n",
        "from transformers import AdamW\n",
        "\n",
        "optimizer = AdamW(model.parameters(), lr=5e-5)\n",
        "model.compile(optimizer =optimizer, loss='categorical_crossentropy',\n",
        "              metrics=['accuracy'])\n",
        "'''''"
      ],
      "execution_count": null,
      "outputs": []
    },
    {
      "cell_type": "code",
      "metadata": {
        "id": "J5cw_UJvdCmF"
      },
      "source": [
        "train_history = model.fit(\n",
        "    x ={'input_ids':x_1['input_ids'],'attention_mask':x_1['attention_mask']} ,\n",
        "    #x =x_1,\n",
        "    y = y_1, epochs=7, batch_size=32\n",
        ")"
      ],
      "execution_count": null,
      "outputs": []
    },
    {
      "cell_type": "code",
      "metadata": {
        "id": "2RFoJU39dGhs"
      },
      "source": [
        "''''\n",
        "predicted = model.predict({'input_ids':x_2['input_ids'],'attention_mask':x_2['attention_mask']})\n",
        "y_predicted = np.where(predicted>0.5,1,0)\n",
        "y_predictedd = y_predicted.reshape((1,2284))[0]\n",
        "'''''\n"
      ],
      "execution_count": null,
      "outputs": []
    },
    {
      "cell_type": "code",
      "metadata": {
        "id": "eBI9kNwZnG3J"
      },
      "source": [
        "from sklearn.metrics import accuracy_score\n",
        "y_pred = model.predict({'input_ids':x_2['input_ids'],'attention_mask':x_2['attention_mask']})\n",
        "print(\"Accuracy:\", accuracy_score(y_2, y_pred.round())) # Value between 0 and 1"
      ],
      "execution_count": null,
      "outputs": []
    },
    {
      "cell_type": "code",
      "metadata": {
        "id": "ZXm11Zx7nISE"
      },
      "source": [
        ""
      ],
      "execution_count": null,
      "outputs": []
    }
  ]
}